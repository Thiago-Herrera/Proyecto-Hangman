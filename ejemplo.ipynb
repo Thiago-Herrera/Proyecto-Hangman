{
 "cells": [
  {
   "cell_type": "code",
   "execution_count": null,
   "id": "af18b225",
   "metadata": {},
   "outputs": [
    {
     "data": {
      "text/plain": [
       "['_', '_', '_', '_', '_', '_']"
      ]
     },
     "execution_count": 2,
     "metadata": {},
     "output_type": "execute_result"
    }
   ],
   "source": [
    "palabra=\"Python\"\n",
    "palabra_oculta = [\"_\"] * len(palabra)\n",
    "palabra_oculta"
   ]
  },
  {
   "cell_type": "code",
   "execution_count": null,
   "id": "9fac7c6d",
   "metadata": {},
   "outputs": [],
   "source": [
    "a = \"\"\n",
    "b = a\n"
   ]
  },
  {
   "cell_type": "code",
   "execution_count": 5,
   "id": "e4596523",
   "metadata": {},
   "outputs": [
    {
     "name": "stdout",
     "output_type": "stream",
     "text": [
      "['P', 'Y', '_', '_', '_', 'N']\n"
     ]
    }
   ],
   "source": [
    "letra_seleccionada = \"N\"\n",
    "if letra_seleccionada in palabra.upper():\n",
    "    for i, letra in enumerate(palabra.upper()):\n",
    "        if letra == letra_seleccionada:\n",
    "            palabra_oculta[i] = letra\n",
    "print(palabra_oculta)"
   ]
  }
 ],
 "metadata": {
  "kernelspec": {
   "display_name": "Python 3",
   "language": "python",
   "name": "python3"
  },
  "language_info": {
   "codemirror_mode": {
    "name": "ipython",
    "version": 3
   },
   "file_extension": ".py",
   "mimetype": "text/x-python",
   "name": "python",
   "nbconvert_exporter": "python",
   "pygments_lexer": "ipython3",
   "version": "3.10.11"
  }
 },
 "nbformat": 4,
 "nbformat_minor": 5
}
